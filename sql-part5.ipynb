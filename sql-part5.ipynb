{
    "metadata": {
        "kernelspec": {
            "name": "SQL",
            "display_name": "SQL",
            "language": "sql"
        },
        "language_info": {
            "name": "sql",
            "version": ""
        }
    },
    "nbformat_minor": 2,
    "nbformat": 4,
    "cells": [
        {
            "cell_type": "markdown",
            "source": [
                "# Exercises: Creating, Updating, and Destroying Objects\n",
                "\n",
                "For the exercises, you will be working with objects and data you create. Before opening this notebook, make sure that you have set up the new connection to the server and that you have located the database and your schema.\n",
                "\n",
                "## Object Creation\n",
                "\n",
                "Before coding, think of three things you want to make. These could be coding projects, new recipes, or planned projects for a woodworking hobby. Brainstorm the appropriate column names and data types as well.\n",
                "\n",
                "Create a table under your schema called `planned_makes`."
            ],
            "metadata": {
                "azdata_cell_guid": "9d51c166-0c19-4f27-a422-2a6cf596bfb2"
            },
            "attachments": {}
        },
        {
            "cell_type": "code",
            "source": [
                "\r\n",
                "CREATE TABLE JunkDB_STL_Sept2022.jordynv.planned_makes (\r\n",
                "    food_id INT PRIMARY KEY IDENTITY (1, 1),\r\n",
                "    breakfast VARCHAR(50) NOT NULL,\r\n",
                "    dinner VARCHAR(50) NOT NULL,\r\n",
                "    dessert VARCHAR(50) NOT NULL,\r\n",
                ")"
            ],
            "metadata": {
                "azdata_cell_guid": "d9238911-6f81-4f01-980d-b584307effaf",
                "language": "sql"
            },
            "outputs": [
                {
                    "output_type": "display_data",
                    "data": {
                        "text/html": "Commands completed successfully."
                    },
                    "metadata": {}
                },
                {
                    "output_type": "display_data",
                    "data": {
                        "text/html": "Total execution time: 00:00:00.033"
                    },
                    "metadata": {}
                }
            ],
            "execution_count": 6
        },
        {
            "cell_type": "markdown",
            "source": [
                "Add three rows to your table that are your planned makes."
            ],
            "metadata": {
                "azdata_cell_guid": "83cdf34d-8c4f-4fa1-a14e-77384b19d734"
            }
        },
        {
            "cell_type": "code",
            "source": [
                "SET IDENTITY_INSERT JunkDB_STL_Sept2022.jordynv.planned_makes ON\r\n",
                "INSERT INTO JunkDB_STL_Sept2022.jordynv.planned_makes (food_id, breakfast, dinner, dessert)\r\n",
                "VALUES (1, 'bagel', 'ramen noodles', 'brownies')"
            ],
            "metadata": {
                "azdata_cell_guid": "e7cff9cb-87ba-4c7b-98f2-eaf445e8719c",
                "language": "sql",
                "tags": []
            },
            "outputs": [
                {
                    "output_type": "display_data",
                    "data": {
                        "text/html": "(1 row affected)"
                    },
                    "metadata": {}
                },
                {
                    "output_type": "display_data",
                    "data": {
                        "text/html": "Total execution time: 00:00:00.030"
                    },
                    "metadata": {}
                }
            ],
            "execution_count": 10
        },
        {
            "cell_type": "code",
            "source": [
                "SET IDENTITY_INSERT JunkDB_STL_Sept2022.jordynv.planned_makes ON\r\n",
                "INSERT INTO JunkDB_STL_Sept2022.jordynv.planned_makes (food_id, breakfast, dinner, dessert)\r\n",
                "VALUES (2, 'eggs', 'salad', 'ice cream')"
            ],
            "metadata": {
                "language": "sql",
                "azdata_cell_guid": "35094f3f-5c85-4333-9f44-9eb1f5d9bf70"
            },
            "outputs": [
                {
                    "output_type": "display_data",
                    "data": {
                        "text/html": "(1 row affected)"
                    },
                    "metadata": {}
                },
                {
                    "output_type": "display_data",
                    "data": {
                        "text/html": "Total execution time: 00:00:00.029"
                    },
                    "metadata": {}
                }
            ],
            "execution_count": 11
        },
        {
            "cell_type": "code",
            "source": [
                "SET IDENTITY_INSERT JunkDB_STL_Sept2022.jordynv.planned_makes ON\r\n",
                "INSERT INTO JunkDB_STL_Sept2022.jordynv.planned_makes (food_id, breakfast, dinner, dessert)\r\n",
                "VALUES (3, 'smoothie', 'tacos', 'cookies');\r\n",
                "\r\n",
                "SELECT TOP 10 *\r\n",
                "FROM JunkDB_STL_Sept2022.jordynv.planned_makes "
            ],
            "metadata": {
                "language": "sql",
                "azdata_cell_guid": "1b213082-6fb7-4268-8ef7-565fb544472a"
            },
            "outputs": [
                {
                    "output_type": "display_data",
                    "data": {
                        "text/html": "The statement has been terminated."
                    },
                    "metadata": {}
                },
                {
                    "output_type": "display_data",
                    "data": {
                        "text/html": "(3 rows affected)"
                    },
                    "metadata": {}
                },
                {
                    "output_type": "display_data",
                    "data": {
                        "text/html": "Total execution time: 00:00:00.032"
                    },
                    "metadata": {}
                },
                {
                    "output_type": "execute_result",
                    "metadata": {},
                    "execution_count": 14,
                    "data": {
                        "application/vnd.dataresource+json": {
                            "schema": {
                                "fields": [
                                    {
                                        "name": "food_id"
                                    },
                                    {
                                        "name": "breakfast"
                                    },
                                    {
                                        "name": "dinner"
                                    },
                                    {
                                        "name": "dessert"
                                    }
                                ]
                            },
                            "data": [
                                {
                                    "0": "1",
                                    "1": "bagel",
                                    "2": "ramen noodles",
                                    "3": "brownies"
                                },
                                {
                                    "0": "2",
                                    "1": "eggs",
                                    "2": "salad",
                                    "3": "ice cream"
                                },
                                {
                                    "0": "3",
                                    "1": "smoothie",
                                    "2": "tacos",
                                    "3": "cookies"
                                }
                            ]
                        },
                        "text/html": [
                            "<table>",
                            "<tr><th>food_id</th><th>breakfast</th><th>dinner</th><th>dessert</th></tr>",
                            "<tr><td>1</td><td>bagel</td><td>ramen noodles</td><td>brownies</td></tr>",
                            "<tr><td>2</td><td>eggs</td><td>salad</td><td>ice cream</td></tr>",
                            "<tr><td>3</td><td>smoothie</td><td>tacos</td><td>cookies</td></tr>",
                            "</table>"
                        ]
                    }
                },
                {
                    "output_type": "error",
                    "evalue": "Msg 2627, Level 14, State 1, Line 2\r\nViolation of PRIMARY KEY constraint 'PK__planned___2F4C4DD8F95A3C43'. Cannot insert duplicate key in object 'jordynv.planned_makes'. The duplicate key value is (3).",
                    "ename": "",
                    "traceback": []
                }
            ],
            "execution_count": 14
        },
        {
            "cell_type": "markdown",
            "source": [
                "## Update a Row\n",
                "\n",
                "Change different values in one of your three rows."
            ],
            "metadata": {
                "azdata_cell_guid": "4a39b8d4-ae97-4e09-8336-c5fc6a00d76c"
            },
            "attachments": {}
        },
        {
            "cell_type": "code",
            "source": [
                "UPDATE JunkDB_STL_Sept2022.jordynv.planned_makes \r\n",
                "SET breakfast = 'omelette'\r\n",
                "WHERE food_id = 2;\r\n",
                "\r\n",
                "SELECT TOP 5 *\r\n",
                "FROM JunkDB_STL_Sept2022.jordynv.planned_makes "
            ],
            "metadata": {
                "azdata_cell_guid": "7409c695-9581-4ad8-b03a-574d2c4c87cb",
                "language": "sql"
            },
            "outputs": [
                {
                    "output_type": "display_data",
                    "data": {
                        "text/html": "(1 row affected)"
                    },
                    "metadata": {}
                },
                {
                    "output_type": "display_data",
                    "data": {
                        "text/html": "(3 rows affected)"
                    },
                    "metadata": {}
                },
                {
                    "output_type": "display_data",
                    "data": {
                        "text/html": "Total execution time: 00:00:00.035"
                    },
                    "metadata": {}
                },
                {
                    "output_type": "execute_result",
                    "metadata": {},
                    "execution_count": 16,
                    "data": {
                        "application/vnd.dataresource+json": {
                            "schema": {
                                "fields": [
                                    {
                                        "name": "food_id"
                                    },
                                    {
                                        "name": "breakfast"
                                    },
                                    {
                                        "name": "dinner"
                                    },
                                    {
                                        "name": "dessert"
                                    }
                                ]
                            },
                            "data": [
                                {
                                    "0": "1",
                                    "1": "bagel",
                                    "2": "ramen noodles",
                                    "3": "brownies"
                                },
                                {
                                    "0": "2",
                                    "1": "omelette",
                                    "2": "salad",
                                    "3": "ice cream"
                                },
                                {
                                    "0": "3",
                                    "1": "smoothie",
                                    "2": "tacos",
                                    "3": "cookies"
                                }
                            ]
                        },
                        "text/html": [
                            "<table>",
                            "<tr><th>food_id</th><th>breakfast</th><th>dinner</th><th>dessert</th></tr>",
                            "<tr><td>1</td><td>bagel</td><td>ramen noodles</td><td>brownies</td></tr>",
                            "<tr><td>2</td><td>omelette</td><td>salad</td><td>ice cream</td></tr>",
                            "<tr><td>3</td><td>smoothie</td><td>tacos</td><td>cookies</td></tr>",
                            "</table>"
                        ]
                    }
                }
            ],
            "execution_count": 16
        },
        {
            "cell_type": "markdown",
            "source": [
                "## Delete a Row\n",
                "\n",
                "Delete one of the rows from your table."
            ],
            "metadata": {
                "azdata_cell_guid": "95e91a6e-9038-42d9-9401-5738842aba17"
            }
        },
        {
            "cell_type": "code",
            "source": [
                "DELETE FROM JunkDB_STL_Sept2022.jordynv.planned_makes \r\n",
                "WHERE food_id = 3;\r\n",
                "\r\n",
                "SELECT TOP 5 *\r\n",
                "FROM JunkDB_STL_Sept2022.jordynv.planned_makes "
            ],
            "metadata": {
                "azdata_cell_guid": "749c748f-19b5-4c69-9004-b6b20216616a",
                "language": "sql"
            },
            "outputs": [
                {
                    "output_type": "display_data",
                    "data": {
                        "text/html": "(1 row affected)"
                    },
                    "metadata": {}
                },
                {
                    "output_type": "display_data",
                    "data": {
                        "text/html": "(2 rows affected)"
                    },
                    "metadata": {}
                },
                {
                    "output_type": "display_data",
                    "data": {
                        "text/html": "Total execution time: 00:00:00.034"
                    },
                    "metadata": {}
                },
                {
                    "output_type": "execute_result",
                    "metadata": {},
                    "execution_count": 17,
                    "data": {
                        "application/vnd.dataresource+json": {
                            "schema": {
                                "fields": [
                                    {
                                        "name": "food_id"
                                    },
                                    {
                                        "name": "breakfast"
                                    },
                                    {
                                        "name": "dinner"
                                    },
                                    {
                                        "name": "dessert"
                                    }
                                ]
                            },
                            "data": [
                                {
                                    "0": "1",
                                    "1": "bagel",
                                    "2": "ramen noodles",
                                    "3": "brownies"
                                },
                                {
                                    "0": "2",
                                    "1": "omelette",
                                    "2": "salad",
                                    "3": "ice cream"
                                }
                            ]
                        },
                        "text/html": [
                            "<table>",
                            "<tr><th>food_id</th><th>breakfast</th><th>dinner</th><th>dessert</th></tr>",
                            "<tr><td>1</td><td>bagel</td><td>ramen noodles</td><td>brownies</td></tr>",
                            "<tr><td>2</td><td>omelette</td><td>salad</td><td>ice cream</td></tr>",
                            "</table>"
                        ]
                    }
                }
            ],
            "execution_count": 17
        },
        {
            "cell_type": "markdown",
            "source": [
                "## Drop the Table\n",
                "\n",
                "While this has been fun, it is time to drop the table!"
            ],
            "metadata": {
                "azdata_cell_guid": "2239cb09-137b-4579-905b-1aa020793181"
            },
            "attachments": {}
        },
        {
            "cell_type": "code",
            "source": [
                "DROP TABLE JunkDB_STL_Sept2022.jordynv.planned_makes;"
            ],
            "metadata": {
                "azdata_cell_guid": "b3c7f6ea-ee26-46b3-9c2a-2f7a82c39699",
                "language": "sql"
            },
            "outputs": [
                {
                    "output_type": "display_data",
                    "data": {
                        "text/html": "Commands completed successfully."
                    },
                    "metadata": {}
                },
                {
                    "output_type": "display_data",
                    "data": {
                        "text/html": "Total execution time: 00:00:00.030"
                    },
                    "metadata": {}
                }
            ],
            "execution_count": 18
        }
    ]
}